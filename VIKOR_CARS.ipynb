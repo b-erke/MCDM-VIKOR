{
 "cells": [
  {
   "cell_type": "markdown",
   "id": "24cbc82a-6457-460a-9b1e-cd772eec6127",
   "metadata": {},
   "source": [
    "# DECIPY"
   ]
  },
  {
   "cell_type": "markdown",
   "id": "354129be-9133-4e51-b1bd-760ea65fcd07",
   "metadata": {},
   "source": [
    "https://github.com/realnoobs/decipy"
   ]
  },
  {
   "cell_type": "code",
   "execution_count": 122,
   "id": "2435a76c-586a-4cf4-b4db-0a9fbf1ad6f0",
   "metadata": {},
   "outputs": [],
   "source": [
    "import numpy as np\n",
    "import pandas as pd\n",
    "from decipy import executors as exe"
   ]
  },
  {
   "cell_type": "code",
   "execution_count": 123,
   "id": "2a61cc8c-db24-42b5-bcca-02224f0f8cd8",
   "metadata": {},
   "outputs": [],
   "source": [
    "data = pd.read_excel(\"VIKOR.xlsx\", index_col=0)"
   ]
  },
  {
   "cell_type": "code",
   "execution_count": 124,
   "id": "ce23b808-c4c8-4167-a591-b79f371ca752",
   "metadata": {},
   "outputs": [
    {
     "data": {
      "text/html": [
       "<div>\n",
       "<style scoped>\n",
       "    .dataframe tbody tr th:only-of-type {\n",
       "        vertical-align: middle;\n",
       "    }\n",
       "\n",
       "    .dataframe tbody tr th {\n",
       "        vertical-align: top;\n",
       "    }\n",
       "\n",
       "    .dataframe thead th {\n",
       "        text-align: right;\n",
       "    }\n",
       "</style>\n",
       "<table border=\"1\" class=\"dataframe\">\n",
       "  <thead>\n",
       "    <tr style=\"text-align: right;\">\n",
       "      <th></th>\n",
       "      <th>Yakit</th>\n",
       "      <th>Max_Hiz</th>\n",
       "      <th>Agirlik</th>\n",
       "      <th>Silindir_Hacmi</th>\n",
       "      <th>HP</th>\n",
       "      <th>CO2</th>\n",
       "      <th>Bagaj</th>\n",
       "      <th>Fiyat</th>\n",
       "    </tr>\n",
       "  </thead>\n",
       "  <tbody>\n",
       "    <tr>\n",
       "      <th>Giulietta</th>\n",
       "      <td>5.2</td>\n",
       "      <td>218</td>\n",
       "      <td>1310</td>\n",
       "      <td>1368</td>\n",
       "      <td>170</td>\n",
       "      <td>121</td>\n",
       "      <td>350</td>\n",
       "      <td>74.385</td>\n",
       "    </tr>\n",
       "    <tr>\n",
       "      <th>A3</th>\n",
       "      <td>4.7</td>\n",
       "      <td>213</td>\n",
       "      <td>1310</td>\n",
       "      <td>1395</td>\n",
       "      <td>140</td>\n",
       "      <td>110</td>\n",
       "      <td>380</td>\n",
       "      <td>86.523</td>\n",
       "    </tr>\n",
       "    <tr>\n",
       "      <th>M3</th>\n",
       "      <td>11.5</td>\n",
       "      <td>250</td>\n",
       "      <td>1480</td>\n",
       "      <td>1586</td>\n",
       "      <td>420</td>\n",
       "      <td>269</td>\n",
       "      <td>350</td>\n",
       "      <td>102.705</td>\n",
       "    </tr>\n",
       "    <tr>\n",
       "      <th>A250</th>\n",
       "      <td>6.4</td>\n",
       "      <td>240</td>\n",
       "      <td>1445</td>\n",
       "      <td>1991</td>\n",
       "      <td>211</td>\n",
       "      <td>148</td>\n",
       "      <td>341</td>\n",
       "      <td>145.200</td>\n",
       "    </tr>\n",
       "    <tr>\n",
       "      <th>Mini</th>\n",
       "      <td>6.4</td>\n",
       "      <td>225</td>\n",
       "      <td>1305</td>\n",
       "      <td>1598</td>\n",
       "      <td>260</td>\n",
       "      <td>149</td>\n",
       "      <td>170</td>\n",
       "      <td>84.399</td>\n",
       "    </tr>\n",
       "    <tr>\n",
       "      <th>BRS</th>\n",
       "      <td>7.8</td>\n",
       "      <td>226</td>\n",
       "      <td>1256</td>\n",
       "      <td>1998</td>\n",
       "      <td>200</td>\n",
       "      <td>181</td>\n",
       "      <td>243</td>\n",
       "      <td>121.803</td>\n",
       "    </tr>\n",
       "    <tr>\n",
       "      <th>Golf</th>\n",
       "      <td>5.2</td>\n",
       "      <td>203</td>\n",
       "      <td>1249</td>\n",
       "      <td>1395</td>\n",
       "      <td>122</td>\n",
       "      <td>116</td>\n",
       "      <td>380</td>\n",
       "      <td>61.000</td>\n",
       "    </tr>\n",
       "    <tr>\n",
       "      <th>V 40</th>\n",
       "      <td>5.3</td>\n",
       "      <td>210</td>\n",
       "      <td>1474</td>\n",
       "      <td>1596</td>\n",
       "      <td>150</td>\n",
       "      <td>99</td>\n",
       "      <td>324</td>\n",
       "      <td>81.710</td>\n",
       "    </tr>\n",
       "  </tbody>\n",
       "</table>\n",
       "</div>"
      ],
      "text/plain": [
       "           Yakit  Max_Hiz  Agirlik  Silindir_Hacmi   HP  CO2  Bagaj    Fiyat\n",
       "Giulietta    5.2      218     1310            1368  170  121    350   74.385\n",
       "A3           4.7      213     1310            1395  140  110    380   86.523\n",
       "M3          11.5      250     1480            1586  420  269    350  102.705\n",
       "A250         6.4      240     1445            1991  211  148    341  145.200\n",
       "Mini         6.4      225     1305            1598  260  149    170   84.399\n",
       "BRS          7.8      226     1256            1998  200  181    243  121.803\n",
       "Golf         5.2      203     1249            1395  122  116    380   61.000\n",
       "V 40         5.3      210     1474            1596  150   99    324   81.710"
      ]
     },
     "execution_count": 124,
     "metadata": {},
     "output_type": "execute_result"
    }
   ],
   "source": [
    "data"
   ]
  },
  {
   "cell_type": "code",
   "execution_count": 125,
   "id": "d824288c-216e-4183-a0a4-79403513f57f",
   "metadata": {},
   "outputs": [],
   "source": [
    "# alternatifler\n",
    "alts = data.index\n",
    "\n",
    "# kriterler\n",
    "crits = data.columns\n",
    "\n",
    "# kriterin fayda değerleri. Fayda için True veya maliyet için False\n",
    "beneficial = [False, True, True, True, True, False, True, False]\n",
    "\n",
    "# kriter ağırlıkları\n",
    "weights = [0.15, 0.18, 0.11, 0.9, 0.12, 0.13, 0.08, 0.14]"
   ]
  },
  {
   "cell_type": "code",
   "execution_count": 126,
   "id": "be15dbfd-801f-4826-94f3-8bacced263f7",
   "metadata": {},
   "outputs": [],
   "source": [
    "kwargs = {\n",
    "    'data': data,\n",
    "    'beneficial': beneficial,\n",
    "    'weights': weights,\n",
    "    'rank_reverse': True,\n",
    "    'rank_method': \"ordinal\"\n",
    "}"
   ]
  },
  {
   "cell_type": "code",
   "execution_count": 127,
   "id": "4fb9c1bb-d468-47fa-9df0-00a066e9a5b1",
   "metadata": {},
   "outputs": [
    {
     "name": "stdout",
     "output_type": "stream",
     "text": [
      "WSM Ranks\n",
      "             RATE  RANK\n",
      "Giulietta  0.5443   7.0\n",
      "A3         0.5624   6.0\n",
      "M3         0.8607   4.0\n",
      "A250       1.4309   1.0\n",
      "Mini       0.8006   5.0\n",
      "BRS        1.2384   2.0\n",
      "Golf       0.5146   8.0\n",
      "V 40       0.9020   3.0\n",
      "TOPSIS Ranks\n",
      "               D+      D-    RATE  RANK\n",
      "Giulietta  0.1329  0.0546  0.2911   8.0\n",
      "A3         0.1309  0.0584  0.3084   7.0\n",
      "M3         0.1015  0.0743  0.4225   4.0\n",
      "A250       0.0625  0.1271  0.6705   1.0\n",
      "Mini       0.0921  0.0629  0.4060   5.0\n",
      "BRS        0.0678  0.1252  0.6487   2.0\n",
      "Golf       0.1313  0.0630  0.3241   6.0\n",
      "V 40       0.0958  0.0725  0.4308   3.0\n",
      "Vikor Ranks\n",
      "                S       P    RATE  RANK\n",
      "Giulietta  1.3209  0.9000  0.9970   8.0\n",
      "A3         1.2888  0.8617  0.9543   6.0\n",
      "M3         0.9780  0.5886  0.6038   4.0\n",
      "A250       0.4399  0.1400  0.0125   1.0\n",
      "Mini       1.0981  0.5714  0.6605   5.0\n",
      "BRS        0.6541  0.1205  0.1208   2.0\n",
      "Golf       1.3263  0.8617  0.9754   7.0\n",
      "V 40       0.9509  0.5747  0.5796   3.0\n"
     ]
    }
   ],
   "source": [
    "# Build MCDM Executor\n",
    "wsm = exe.WSM(**kwargs) # Agirlikli Ortalama\n",
    "topsis = exe.Topsis(**kwargs) # Topsis \n",
    "vikor = exe.Vikor(**kwargs) # Vikor \n",
    "\n",
    "# show results\n",
    "print(\"WSM Ranks\")\n",
    "print(wsm.dataframe)\n",
    "\n",
    "print(\"TOPSIS Ranks\")\n",
    "print(topsis.dataframe)\n",
    "\n",
    "print(\"Vikor Ranks\")\n",
    "print(vikor.dataframe)"
   ]
  },
  {
   "cell_type": "code",
   "execution_count": 128,
   "id": "027bd00e-2d60-4b2c-9efe-b2a14310d6f4",
   "metadata": {},
   "outputs": [
    {
     "name": "stdout",
     "output_type": "stream",
     "text": [
      "[0.9683 0.9683 0.9841]\n"
     ]
    }
   ],
   "source": [
    "# En iyi yöntemi seçme & Sıralama Analizi\n",
    "analizer = exe.RankSimilarityAnalyzer()\n",
    "\n",
    "analizer.add_executor(wsm)\n",
    "analizer.add_executor(topsis)\n",
    "analizer.add_executor(vikor)\n",
    "\n",
    "results = analizer.analyze()\n",
    "print(results)"
   ]
  },
  {
   "cell_type": "markdown",
   "id": "2f0e5163-ebd8-42e7-b856-f3654406d881",
   "metadata": {},
   "source": [
    "# PYMCDM"
   ]
  },
  {
   "cell_type": "markdown",
   "id": "6568fe31-4963-4ce2-a967-00166b9b0d5d",
   "metadata": {},
   "source": [
    "https://gitlab.com/shekhand/mcda/-/blob/master/examples/examples.ipynb"
   ]
  },
  {
   "cell_type": "code",
   "execution_count": 129,
   "id": "96dd87ab-96d7-4bd7-81fa-480faa05f33d",
   "metadata": {},
   "outputs": [],
   "source": [
    "import numpy as np\n",
    "import pandas as pd\n",
    "\n",
    "#Tablolaştırmak için\n",
    "from tabulate import tabulate\n",
    "\n",
    "#Karar Kütüphanesi\n",
    "from pymcdm import methods as mcdm_methods\n",
    "from pymcdm import weights as mcdm_weights\n",
    "from pymcdm import normalizations as norm\n",
    "from pymcdm import correlations as corr\n",
    "from pymcdm.helpers import rankdata, rrankdata"
   ]
  },
  {
   "cell_type": "code",
   "execution_count": 130,
   "id": "6f377f85-c134-47e1-a49b-870df08a0797",
   "metadata": {},
   "outputs": [
    {
     "name": "stdout",
     "output_type": "stream",
     "text": [
      "[[   5.2    218.    1310.    1368.     170.     121.     350.      74.385]\n",
      " [   4.7    213.    1310.    1395.     140.     110.     380.      86.523]\n",
      " [  11.5    250.    1480.    1586.     420.     269.     350.     102.705]\n",
      " [   6.4    240.    1445.    1991.     211.     148.     341.     145.2  ]\n",
      " [   6.4    225.    1305.    1598.     260.     149.     170.      84.399]\n",
      " [   7.8    226.    1256.    1998.     200.     181.     243.     121.803]\n",
      " [   5.2    203.    1249.    1395.     122.     116.     380.      61.   ]\n",
      " [   5.3    210.    1474.    1596.     150.      99.     324.      81.71 ]]\n"
     ]
    }
   ],
   "source": [
    "matrix = data[data.columns[0:]].to_numpy()\n",
    "print(matrix)"
   ]
  },
  {
   "cell_type": "code",
   "execution_count": 131,
   "id": "61cdd495-74c3-494f-952f-c38f3ceaee67",
   "metadata": {},
   "outputs": [],
   "source": [
    "agirlik = np.array([0.15, 0.18, 0.11, 0.9, 0.12, 0.13, 0.08, 0.14])\n",
    "kriter = np.array([-1, 1, 1, 1, 1, -1, 1, -1])"
   ]
  },
  {
   "cell_type": "code",
   "execution_count": 132,
   "id": "f4e1a8be-c582-4f42-bfaf-333f9c6d3ef2",
   "metadata": {},
   "outputs": [
    {
     "name": "stdout",
     "output_type": "stream",
     "text": [
      "[0.9838 0.9496 0.6149 0.021  0.637  0.1051 0.9757 0.5834]\n"
     ]
    }
   ],
   "source": [
    "vikor = mcdm_methods.VIKOR()\n",
    "sonuc=vikor(matrix, agirlik, kriter,)\n",
    "print(sonuc)"
   ]
  },
  {
   "cell_type": "code",
   "execution_count": 133,
   "id": "bed0b7d9-d008-4ff7-970d-8a4daf5cb73a",
   "metadata": {},
   "outputs": [
    {
     "name": "stdout",
     "output_type": "stream",
     "text": [
      "[8. 6. 4. 1. 5. 2. 7. 3.]\n"
     ]
    }
   ],
   "source": [
    "sıra=rankdata(sonuc, reverse=False)\n",
    "print(sıra)"
   ]
  },
  {
   "cell_type": "code",
   "execution_count": 136,
   "id": "78c6de0e-1b6b-4fb6-9df6-71bbcb92513d",
   "metadata": {},
   "outputs": [],
   "source": [
    "data['VIKOR'] = sonuc.tolist()\n",
    "data['Sıralama'] = sıra.tolist()"
   ]
  },
  {
   "cell_type": "code",
   "execution_count": 137,
   "id": "f3151d25-1a28-4160-b239-b2ff1a322f2a",
   "metadata": {},
   "outputs": [
    {
     "data": {
      "text/html": [
       "<div>\n",
       "<style scoped>\n",
       "    .dataframe tbody tr th:only-of-type {\n",
       "        vertical-align: middle;\n",
       "    }\n",
       "\n",
       "    .dataframe tbody tr th {\n",
       "        vertical-align: top;\n",
       "    }\n",
       "\n",
       "    .dataframe thead th {\n",
       "        text-align: right;\n",
       "    }\n",
       "</style>\n",
       "<table border=\"1\" class=\"dataframe\">\n",
       "  <thead>\n",
       "    <tr style=\"text-align: right;\">\n",
       "      <th></th>\n",
       "      <th>Yakit</th>\n",
       "      <th>Max_Hiz</th>\n",
       "      <th>Agirlik</th>\n",
       "      <th>Silindir_Hacmi</th>\n",
       "      <th>HP</th>\n",
       "      <th>CO2</th>\n",
       "      <th>Bagaj</th>\n",
       "      <th>Fiyat</th>\n",
       "      <th>VIKOR</th>\n",
       "      <th>Sıralama</th>\n",
       "    </tr>\n",
       "  </thead>\n",
       "  <tbody>\n",
       "    <tr>\n",
       "      <th>Giulietta</th>\n",
       "      <td>5.2</td>\n",
       "      <td>218</td>\n",
       "      <td>1310</td>\n",
       "      <td>1368</td>\n",
       "      <td>170</td>\n",
       "      <td>121</td>\n",
       "      <td>350</td>\n",
       "      <td>74.385</td>\n",
       "      <td>0.983773</td>\n",
       "      <td>8.0</td>\n",
       "    </tr>\n",
       "    <tr>\n",
       "      <th>A3</th>\n",
       "      <td>4.7</td>\n",
       "      <td>213</td>\n",
       "      <td>1310</td>\n",
       "      <td>1395</td>\n",
       "      <td>140</td>\n",
       "      <td>110</td>\n",
       "      <td>380</td>\n",
       "      <td>86.523</td>\n",
       "      <td>0.949627</td>\n",
       "      <td>6.0</td>\n",
       "    </tr>\n",
       "    <tr>\n",
       "      <th>M3</th>\n",
       "      <td>11.5</td>\n",
       "      <td>250</td>\n",
       "      <td>1480</td>\n",
       "      <td>1586</td>\n",
       "      <td>420</td>\n",
       "      <td>269</td>\n",
       "      <td>350</td>\n",
       "      <td>102.705</td>\n",
       "      <td>0.614898</td>\n",
       "      <td>4.0</td>\n",
       "    </tr>\n",
       "    <tr>\n",
       "      <th>A250</th>\n",
       "      <td>6.4</td>\n",
       "      <td>240</td>\n",
       "      <td>1445</td>\n",
       "      <td>1991</td>\n",
       "      <td>211</td>\n",
       "      <td>148</td>\n",
       "      <td>341</td>\n",
       "      <td>145.200</td>\n",
       "      <td>0.021008</td>\n",
       "      <td>1.0</td>\n",
       "    </tr>\n",
       "    <tr>\n",
       "      <th>Mini</th>\n",
       "      <td>6.4</td>\n",
       "      <td>225</td>\n",
       "      <td>1305</td>\n",
       "      <td>1598</td>\n",
       "      <td>260</td>\n",
       "      <td>149</td>\n",
       "      <td>170</td>\n",
       "      <td>84.399</td>\n",
       "      <td>0.636955</td>\n",
       "      <td>5.0</td>\n",
       "    </tr>\n",
       "    <tr>\n",
       "      <th>BRS</th>\n",
       "      <td>7.8</td>\n",
       "      <td>226</td>\n",
       "      <td>1256</td>\n",
       "      <td>1998</td>\n",
       "      <td>200</td>\n",
       "      <td>181</td>\n",
       "      <td>243</td>\n",
       "      <td>121.803</td>\n",
       "      <td>0.105070</td>\n",
       "      <td>2.0</td>\n",
       "    </tr>\n",
       "    <tr>\n",
       "      <th>Golf</th>\n",
       "      <td>5.2</td>\n",
       "      <td>203</td>\n",
       "      <td>1249</td>\n",
       "      <td>1395</td>\n",
       "      <td>122</td>\n",
       "      <td>116</td>\n",
       "      <td>380</td>\n",
       "      <td>61.000</td>\n",
       "      <td>0.975690</td>\n",
       "      <td>7.0</td>\n",
       "    </tr>\n",
       "    <tr>\n",
       "      <th>V 40</th>\n",
       "      <td>5.3</td>\n",
       "      <td>210</td>\n",
       "      <td>1474</td>\n",
       "      <td>1596</td>\n",
       "      <td>150</td>\n",
       "      <td>99</td>\n",
       "      <td>324</td>\n",
       "      <td>81.710</td>\n",
       "      <td>0.583374</td>\n",
       "      <td>3.0</td>\n",
       "    </tr>\n",
       "  </tbody>\n",
       "</table>\n",
       "</div>"
      ],
      "text/plain": [
       "           Yakit  Max_Hiz  Agirlik  Silindir_Hacmi   HP  CO2  Bagaj    Fiyat  \\\n",
       "Giulietta    5.2      218     1310            1368  170  121    350   74.385   \n",
       "A3           4.7      213     1310            1395  140  110    380   86.523   \n",
       "M3          11.5      250     1480            1586  420  269    350  102.705   \n",
       "A250         6.4      240     1445            1991  211  148    341  145.200   \n",
       "Mini         6.4      225     1305            1598  260  149    170   84.399   \n",
       "BRS          7.8      226     1256            1998  200  181    243  121.803   \n",
       "Golf         5.2      203     1249            1395  122  116    380   61.000   \n",
       "V 40         5.3      210     1474            1596  150   99    324   81.710   \n",
       "\n",
       "              VIKOR  Sıralama  \n",
       "Giulietta  0.983773       8.0  \n",
       "A3         0.949627       6.0  \n",
       "M3         0.614898       4.0  \n",
       "A250       0.021008       1.0  \n",
       "Mini       0.636955       5.0  \n",
       "BRS        0.105070       2.0  \n",
       "Golf       0.975690       7.0  \n",
       "V 40       0.583374       3.0  "
      ]
     },
     "execution_count": 137,
     "metadata": {},
     "output_type": "execute_result"
    }
   ],
   "source": [
    "data"
   ]
  },
  {
   "cell_type": "code",
   "execution_count": null,
   "id": "4abca9fa-9ebc-4b89-bcf4-8b04d247f96e",
   "metadata": {},
   "outputs": [],
   "source": []
  }
 ],
 "metadata": {
  "kernelspec": {
   "display_name": "Python 3 (ipykernel)",
   "language": "python",
   "name": "python3"
  },
  "language_info": {
   "codemirror_mode": {
    "name": "ipython",
    "version": 3
   },
   "file_extension": ".py",
   "mimetype": "text/x-python",
   "name": "python",
   "nbconvert_exporter": "python",
   "pygments_lexer": "ipython3",
   "version": "3.9.9"
  }
 },
 "nbformat": 4,
 "nbformat_minor": 5
}
